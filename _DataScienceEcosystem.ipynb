{
 "cells": [
  {
   "cell_type": "markdown",
   "id": "c31c5d12-61a5-4bb5-81a3-2190da823682",
   "metadata": {},
   "source": [
    "# Data Science Tools and Ecosystem\n"
   ]
  },
  {
   "cell_type": "markdown",
   "id": "4bca224d-3505-4ff8-9073-acdee7cf9b5c",
   "metadata": {},
   "source": [
    "In this notebook, Data Science Tools and Ecosystem are summarized.\n"
   ]
  },
  {
   "cell_type": "markdown",
   "id": "71af3c33-8ff5-43b5-99a8-a7a0e00bc25f",
   "metadata": {},
   "source": [
    "Some of the popular languages that Data Scientists use are:  \n",
    "\n",
    "1. Python  \n",
    "2. R  \n",
    "3. SQL  \n",
    "4. Julia  \n",
    "5. Scala  "
   ]
  },
  {
   "cell_type": "markdown",
   "id": "e58e8cab-d599-460a-a811-fe5610f2daae",
   "metadata": {},
   "source": [
    "Some of the commonly used libraries used by Data Scientists include:  \n",
    "\n",
    "1. NumPy  \n",
    "2. Pandas  \n",
    "3. Matplotlib  \n",
    "4. Scikit-learn  \n",
    "5. TensorFlow"
   ]
  },
  {
   "cell_type": "markdown",
   "id": "1f5c4f16-8b52-4806-98a1-e6baa1ed77bd",
   "metadata": {},
   "source": [
    "| Data Science Tools | Developer/Organization | Purpose                  |\n",
    "|--------------------|----------------------|--------------------------|\n",
    "| Jupyter Notebook  | Project Jupyter      | Interactive computing    |\n",
    "| RStudio           | RStudio, PBC         | Statistical computing    |\n",
    "| Apache Zeppelin   | Apache Software Foundation | Data visualization & analytics |\n",
    "| VS Code           | Microsoft            | Code editing & debugging |\n",
    "| Spyder            | Community-driven     | Python development for Data Science |"
   ]
  },
  {
   "cell_type": "markdown",
   "id": "b8541da1-61cd-47c0-b8ec-588b9dac722d",
   "metadata": {},
   "source": [
    "### Examples of Arithmetic Expressions in Python\n",
    "Below are some common arithmetic operations that can be performed using Python."
   ]
  },
  {
   "cell_type": "code",
   "execution_count": 1,
   "id": "0f79c0da-3e03-48c8-8bca-3a6f7cf96ed3",
   "metadata": {},
   "outputs": [
    {
     "name": "stdout",
     "output_type": "stream",
     "text": [
      "17\n"
     ]
    }
   ],
   "source": [
    "# This is a simple arithmetic expression to multiply then add integers\n",
    "result = (3 * 4) + 5\n",
    "print(result)  # Expected output: 17"
   ]
  },
  {
   "cell_type": "code",
   "execution_count": 2,
   "id": "7784eadd-ea38-4651-81f5-a8f1852d3def",
   "metadata": {},
   "outputs": [
    {
     "name": "stdout",
     "output_type": "stream",
     "text": [
      "3.3333333333333335\n"
     ]
    }
   ],
   "source": [
    "# This will convert 200 minutes to hours by dividing by 60\n",
    "minutes = 200\n",
    "hours = minutes / 60\n",
    "print(hours)  # Expected output: 3.3333"
   ]
  },
  {
   "cell_type": "markdown",
   "id": "6e83def8-ae28-4719-8c25-54aa8e5ae623",
   "metadata": {},
   "source": [
    "**Objectives:**  \n",
    "\n",
    "- List popular languages for Data Science  \n",
    "- Identify commonly used Data Science libraries  \n",
    "- Explore various Data Science tools and environments  \n",
    "- Perform basic arithmetic operations in Python  \n",
    "- Convert time units using Python expressions "
   ]
  },
  {
   "cell_type": "markdown",
   "id": "f2ec4296-caff-4ee9-850f-15a210d5d43f",
   "metadata": {},
   "source": [
    "## Author  \n",
    "Vijay Kumar "
   ]
  },
  {
   "cell_type": "code",
   "execution_count": null,
   "id": "6963a8fc-9112-47e2-88fe-f09399f07bcb",
   "metadata": {},
   "outputs": [],
   "source": []
  }
 ],
 "metadata": {
  "kernelspec": {
   "display_name": "Python 3 (ipykernel)",
   "language": "python",
   "name": "python3"
  },
  "language_info": {
   "codemirror_mode": {
    "name": "ipython",
    "version": 3
   },
   "file_extension": ".py",
   "mimetype": "text/x-python",
   "name": "python",
   "nbconvert_exporter": "python",
   "pygments_lexer": "ipython3",
   "version": "3.12.6"
  }
 },
 "nbformat": 4,
 "nbformat_minor": 5
}
